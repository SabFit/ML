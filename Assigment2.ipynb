{
 "cells": [
  {
   "cell_type": "markdown",
   "id": "8ad661ac-de12-491a-8891-778878bc9691",
   "metadata": {},
   "source": [
    "1.What are the two values of the Boolean data type? How do you write them?\n"
   ]
  },
  {
   "cell_type": "markdown",
   "id": "738fc3db-bac0-4d31-adcf-a83be3d8e285",
   "metadata": {},
   "source": [
    "ANS  True and false .\n",
    "\n",
    " bool()"
   ]
  },
  {
   "cell_type": "markdown",
   "id": "f8b25129-8a21-451b-9a7a-d3eb467f52e6",
   "metadata": {},
   "source": [
    "2. What are the three different types of Boolean operators?"
   ]
  },
  {
   "cell_type": "markdown",
   "id": "b910fafd-b0c4-4629-947a-de3bc35803d8",
   "metadata": {},
   "source": [
    "ANS   AND ,OR & NOT\n"
   ]
  },
  {
   "cell_type": "markdown",
   "id": "e1f27dd8-81c9-4ec3-b302-187e1f6e1eff",
   "metadata": {},
   "source": [
    "3. Make a list of each Boolean operator's truth tables (i.e. every possible combination of Boolean values for the operator and what it evaluate )."
   ]
  },
  {
   "cell_type": "markdown",
   "id": "76dc6c1a-f1ff-49da-aef4-b6bb16c151e1",
   "metadata": {},
   "source": [
    "Ans truth table for OR operator \n",
    "\n",
    "\n",
    "True or True is True ,\n",
    "True or False is True ,\n",
    "False or True is True ,\n",
    "False or Fasle is False.\n",
    "\n",
    "\n",
    "\n",
    "\n",
    "\n",
    "\n",
    "truth table for AND operator \n",
    "\n",
    "True and True is True ,\n",
    "True and False is False ,\n",
    "False and True is Fasle,\n",
    "False and False is False .\n",
    "\n",
    "\n",
    "\n",
    "\n",
    "\n",
    "\n",
    "\n",
    "\n",
    "Truth table for NOT operator   \n",
    "\n",
    "NOT True is false , \n",
    "NOT Fasle is True \n",
    "\n",
    "\n"
   ]
  },
  {
   "cell_type": "markdown",
   "id": "8dafedb9-dc66-4281-b588-63114a1ca9aa",
   "metadata": {},
   "source": [
    "4. What are the values of the following expressions?\n",
    "(5 > 4) and (3 == 5)\n",
    "not (5 > 4)\n",
    "(5 > 4) or (3 == 5)\n",
    "not ((5 > 4) or (3 == 5))\n",
    "(True and True) and (True == False)\n",
    "(not False) or (not True)\n",
    "\n",
    "\n",
    "Ans \n",
    "\n",
    "\n",
    "(5 > 4) and (3 == 5) True and false ,\n",
    "not (5 > 4) False, \n",
    "(5 > 4) or (3 == 5) True or false\n",
    "not ((5 > 4) or (3 == 5))  false ,\n",
    "(True and True) is True  and (True == False) is False \n",
    "(not False) or (not True) is True or False \n",
    "\n",
    "\n",
    "\n",
    "\n"
   ]
  },
  {
   "cell_type": "markdown",
   "id": "dfdd3696-8287-4e91-b663-50b39743d3e9",
   "metadata": {},
   "source": [
    "5. What are the six comparison operators? "
   ]
  },
  {
   "cell_type": "markdown",
   "id": "80d6d7b1-eb17-4730-920a-9729cfb35eef",
   "metadata": {},
   "source": [
    " less than ( < ), \n",
    " less than or equal to ( <= ),\n",
    " greater than ( > ),\n",
    " greater than or equal to ( >= ), \n",
    " equal to ( == ), and \n",
    " not equal to ( != )."
   ]
  },
  {
   "cell_type": "markdown",
   "id": "216f697f-52eb-428a-aeb4-1142d73057b7",
   "metadata": {},
   "source": [
    "6. How do you tell the difference between the equal to and assignment operators?Describe a condition and when you would use one."
   ]
  },
  {
   "cell_type": "markdown",
   "id": "26b308ce-4ac4-4ba6-bc71-19f22442c7c4",
   "metadata": {},
   "source": [
    "equal to == is the comparison operator  ,where as = is the assignment operator \n",
    "\n",
    "1==1 \n",
    "\n",
    "a=2\n"
   ]
  },
  {
   "cell_type": "markdown",
   "id": "ebe8f99b-1d95-4b15-9a5c-e14221d9188f",
   "metadata": {},
   "source": [
    "7. Identify the three blocks in this code:\n",
    "spam = 0\n",
    "if spam == 10:\n",
    "print('eggs')\n",
    "if spam > 5:\n",
    "print('bacon')\n",
    "else:\n",
    "print('ham')\n",
    "print('spam')\n",
    "print('spam')\n"
   ]
  },
  {
   "cell_type": "markdown",
   "id": "1b96be55-b405-486a-bfd8-2d8b2b38e2d4",
   "metadata": {},
   "source": [
    "Ans \n"
   ]
  },
  {
   "cell_type": "markdown",
   "id": "7c9f4022-d787-4010-801f-e297b826af83",
   "metadata": {},
   "source": [
    "\n",
    "spam = 0\n",
    "if spam == 10:\n",
    "    print('eggs') (# first block)\n",
    "if spam > 5:\n",
    "    print('bacon') ( #second block)\n",
    "else:\n",
    "    print('ham')\n",
    "print('spam')\n",
    "print('spam') (# third block )\n"
   ]
  },
  {
   "cell_type": "markdown",
   "id": "c78d6699-2389-4178-80f4-00006b45137f",
   "metadata": {},
   "source": [
    "8. Write code that prints Hello if 1 is stored in spam, prints Howdy if 2 is stored in spam, and prints Greetings! if anything else is stored in spam."
   ]
  },
  {
   "cell_type": "code",
   "execution_count": 13,
   "id": "c7d04bc6-7843-45b1-863c-78678e4e53cc",
   "metadata": {},
   "outputs": [],
   "source": [
    "if spam ==1:\n",
    "    print (\"Hello\")"
   ]
  },
  {
   "cell_type": "code",
   "execution_count": 7,
   "id": "4b2e39b2-6610-46a2-9449-a2f9b389a2c8",
   "metadata": {},
   "outputs": [],
   "source": [
    "if spam ==2 :\n",
    "    print(\"Howdy\")"
   ]
  },
  {
   "cell_type": "code",
   "execution_count": 2,
   "id": "24d43c1c-015a-43dd-a8af-1b1d44d8161a",
   "metadata": {},
   "outputs": [
    {
     "name": "stdout",
     "output_type": "stream",
     "text": [
      "Greetings!\n"
     ]
    }
   ],
   "source": [
    "spam= 3\n",
    "if spam==1:\n",
    "    print(\"hello\")\n",
    "if spam==2:\n",
    "    print(\"Howdy\")\n",
    "else:\n",
    "    if spam==3:\n",
    "        print(\"Greetings!\")\n",
    "          "
   ]
  },
  {
   "cell_type": "markdown",
   "id": "755981bc-31f7-4c53-92c4-2ced14d04d38",
   "metadata": {},
   "source": [
    "9.If your programme is stuck in an endless loop, what keys you’ll press? "
   ]
  },
  {
   "cell_type": "markdown",
   "id": "1ac66df3-57ac-4a2b-876f-445b196b5024",
   "metadata": {},
   "source": [
    "ANS    CTRL+C "
   ]
  },
  {
   "cell_type": "markdown",
   "id": "57af75f8-4dd4-482b-91a4-11a3e4d906cd",
   "metadata": {},
   "source": [
    "10. How can you tell the difference between break and continue?"
   ]
  },
  {
   "cell_type": "markdown",
   "id": "41f8f620-d506-476a-9b5a-c0fb0ef8786c",
   "metadata": {},
   "source": [
    "Ans  break statement terminates the innermost loop or nested loop . where as continue statement work instead of terminating the loop , it forces to exceute the next iteration of the loop .\n"
   ]
  },
  {
   "cell_type": "markdown",
   "id": "c002ad52-02b2-4992-9b5d-842d3db2789f",
   "metadata": {},
   "source": [
    "11. In a for loop, what is the difference between range(10), range(0, 10), and range(0, 10, 1)?"
   ]
  },
  {
   "cell_type": "markdown",
   "id": "075341ef-9fd3-479f-89ce-7897da2d9d69",
   "metadata": {},
   "source": [
    "ans : THERE IS NO DIFFERENCE , TECHNICALLY SAME. "
   ]
  },
  {
   "cell_type": "code",
   "execution_count": 11,
   "id": "a34b26f1-7398-46b5-847d-0d1862e0a092",
   "metadata": {},
   "outputs": [
    {
     "name": "stdout",
     "output_type": "stream",
     "text": [
      "0\n",
      "1\n",
      "2\n",
      "3\n",
      "4\n",
      "5\n",
      "6\n",
      "7\n",
      "8\n",
      "9\n"
     ]
    }
   ],
   "source": [
    "for i in range (10):\n",
    "    print(i)"
   ]
  },
  {
   "cell_type": "code",
   "execution_count": 12,
   "id": "e6ed0c5b-1805-4a4e-bfc8-f18a5a244eda",
   "metadata": {},
   "outputs": [
    {
     "name": "stdout",
     "output_type": "stream",
     "text": [
      "0\n",
      "1\n",
      "2\n",
      "3\n",
      "4\n",
      "5\n",
      "6\n",
      "7\n",
      "8\n",
      "9\n"
     ]
    }
   ],
   "source": [
    "for i in range(0,10):\n",
    "    print(i)"
   ]
  },
  {
   "cell_type": "code",
   "execution_count": 13,
   "id": "0e3f19d1-a21c-4648-ad05-48f9094075fc",
   "metadata": {},
   "outputs": [
    {
     "name": "stdout",
     "output_type": "stream",
     "text": [
      "0\n",
      "1\n",
      "2\n",
      "3\n",
      "4\n",
      "5\n",
      "6\n",
      "7\n",
      "8\n",
      "9\n"
     ]
    }
   ],
   "source": [
    "for i in range(0,10,1):\n",
    "    print(i)"
   ]
  },
  {
   "cell_type": "markdown",
   "id": "a5716a41-7080-43aa-b33a-941ba3dd2811",
   "metadata": {},
   "source": [
    "12. Write a short program that prints the numbers 1 to 10 using a for loop. Then write an equivalent program that prints the numbers 1 to 10 using a while loop"
   ]
  },
  {
   "cell_type": "markdown",
   "id": "89e59c33-3d21-48d6-86d0-333b0899e68c",
   "metadata": {},
   "source": [
    "ans "
   ]
  },
  {
   "cell_type": "code",
   "execution_count": 21,
   "id": "09bfb973-b272-4a61-9248-0726970dfb18",
   "metadata": {},
   "outputs": [
    {
     "name": "stdout",
     "output_type": "stream",
     "text": [
      "1\n",
      "2\n",
      "3\n",
      "4\n",
      "5\n",
      "6\n",
      "7\n",
      "8\n",
      "9\n",
      "10\n"
     ]
    }
   ],
   "source": [
    "# PRINT THE NUMBERS 1 TO 10 USING FOR LOOP \n",
    "\n",
    "for x in range (1,11):\n",
    "    print (x)"
   ]
  },
  {
   "cell_type": "code",
   "execution_count": 22,
   "id": "d25ccc68-ca59-486e-a66c-eb7b9f35c251",
   "metadata": {},
   "outputs": [
    {
     "name": "stdout",
     "output_type": "stream",
     "text": [
      "1\n",
      "2\n",
      "3\n",
      "4\n",
      "5\n",
      "6\n",
      "7\n",
      "8\n",
      "9\n",
      "10\n"
     ]
    }
   ],
   "source": [
    "# print the numbers 1 to 10 using while loop\n",
    "\n",
    "i=1\n",
    "while i<=10:\n",
    "    print(i)\n",
    "    i+=1"
   ]
  },
  {
   "cell_type": "markdown",
   "id": "defb0aa3-e5e8-45ee-b8d2-d873718de7df",
   "metadata": {},
   "source": [
    "13. If you had a function named bacon() inside a module named spam, how would you call it after importing spam?"
   ]
  },
  {
   "cell_type": "markdown",
   "id": "f9868f96-3b5f-4353-aec6-bd99c6282602",
   "metadata": {},
   "source": [
    "ans is spam.bacon()"
   ]
  },
  {
   "cell_type": "code",
   "execution_count": null,
   "id": "60818ca6-4b7d-4298-9ccb-f841e50b2090",
   "metadata": {},
   "outputs": [],
   "source": []
  }
 ],
 "metadata": {
  "kernelspec": {
   "display_name": "Python 3 (ipykernel)",
   "language": "python",
   "name": "python3"
  },
  "language_info": {
   "codemirror_mode": {
    "name": "ipython",
    "version": 3
   },
   "file_extension": ".py",
   "mimetype": "text/x-python",
   "name": "python",
   "nbconvert_exporter": "python",
   "pygments_lexer": "ipython3",
   "version": "3.10.6"
  }
 },
 "nbformat": 4,
 "nbformat_minor": 5
}
